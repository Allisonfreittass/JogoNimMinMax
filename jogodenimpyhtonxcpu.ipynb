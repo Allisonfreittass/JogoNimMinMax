{
  "nbformat": 4,
  "nbformat_minor": 0,
  "metadata": {
    "colab": {
      "provenance": []
    },
    "kernelspec": {
      "name": "python3",
      "display_name": "Python 3"
    },
    "language_info": {
      "name": "python"
    }
  },
  "cells": [
    {
      "cell_type": "code",
      "execution_count": null,
      "metadata": {
        "id": "OPiy6UikSaXL"
      },
      "outputs": [],
      "source": [
        "import math\n",
        "\n",
        "def minimax(pilha, depth, is_maximizing):\n",
        "    if pilha == 0:\n",
        "        return -1 if is_maximizing else 1\n",
        "\n",
        "    if is_maximizing:\n",
        "        best_score = -math.inf\n",
        "        for j in range(1, min(4, pilha + 1)):\n",
        "            score = minimax(pilha - j, depth + 1, False)\n",
        "            best_score = max(score, best_score)\n",
        "        return best_score\n",
        "    else:\n",
        "        best_score = math.inf\n",
        "        for j in range(1, min(4, pilha + 1)):\n",
        "            score = minimax(pilha - j, depth + 1, True)\n",
        "            best_score = min(score, best_score)\n",
        "        return best_score\n",
        "\n",
        "def melhor_movimento(pilha):\n",
        "    melhor_score = -math.inf\n",
        "    melhor_jogada = 0\n",
        "    for j in range(1, min(4, pilha + 1)):\n",
        "        score = minimax(pilha - j, 0, False)\n",
        "        if score > melhor_score:\n",
        "            melhor_score = score\n",
        "            melhor_jogada = j\n",
        "    return melhor_jogada\n",
        "\n",
        "def jogada_humana(pilha):\n",
        "    while True:\n",
        "        print(f\"Pilha atual: {pilha} objetos\")\n",
        "        objetos = int(input(f\"Quantos objetos deseja retirar (1-{min(3, pilha)}): \"))\n",
        "        if objetos < 1 or objetos > min(3, pilha):\n",
        "            print(\"Número inválido de objetos!\")\n",
        "            continue\n",
        "        return objetos\n",
        "\n",
        "def main():\n",
        "    pilha = 21\n",
        "\n",
        "    while pilha > 0:\n",
        "        # Jogada do ser humano\n",
        "        objetos = jogada_humana(pilha)\n",
        "        pilha -= objetos\n",
        "        if pilha == 0:\n",
        "            print(\"Você perdeu! O computador venceu.\")\n",
        "            break\n",
        "\n",
        "        # Jogada do computador\n",
        "        print(\"Jogada do computador...\")\n",
        "        objetos = melhor_movimento(pilha)\n",
        "        print(f\"O computador removeu {objetos} objetos.\")\n",
        "        pilha -= objetos\n",
        "        if pilha == 0:\n",
        "            print(\"O computador perdeu! Você venceu.\")\n",
        "            break\n",
        "\n",
        "if __name__ == \"__main__\":\n",
        "    main()\n"
      ]
    }
  ]
}