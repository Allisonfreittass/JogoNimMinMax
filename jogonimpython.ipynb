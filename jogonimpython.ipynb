{
  "nbformat": 4,
  "nbformat_minor": 0,
  "metadata": {
    "colab": {
      "provenance": []
    },
    "kernelspec": {
      "name": "python3",
      "display_name": "Python 3"
    },
    "language_info": {
      "name": "python"
    }
  },
  "cells": [
    {
      "cell_type": "code",
      "execution_count": 6,
      "metadata": {
        "id": "-YPo_FlmghwL",
        "colab": {
          "base_uri": "https://localhost:8080/"
        },
        "outputId": "55c41464-989f-4e64-bfe2-02844880bf5b"
      },
      "outputs": [
        {
          "output_type": "stream",
          "name": "stdout",
          "text": [
            "Bem vindo ao jogo Nim!\n",
            "Existem 21 objetos na pilha,\n",
            "onde cada jogador pode tirar de 1 a 3 objetos.\n",
            "O ultimo a tira o objeto da pilha perde!\n",
            "\n",
            "Objetos restantes na pilha: 21\n",
            "É a vez do 1\n",
            "Quantas peças deseja mover (1 ou 3)?\n",
            "Por favor, insira um número valido\n",
            "Quantas peças deseja mover (1 ou 3)?3\n",
            "Objetos restantes na pilha: 18\n",
            "É a vez do 2\n",
            "Quantas peças deseja mover (1 ou 3)?2\n",
            "Objetos restantes na pilha: 16\n",
            "É a vez do 1\n",
            "Quantas peças deseja mover (1 ou 3)?3\n",
            "Objetos restantes na pilha: 13\n",
            "É a vez do 2\n",
            "Quantas peças deseja mover (1 ou 3)?4\n",
            "Objetos restantes na pilha: 9\n",
            "É a vez do 1\n",
            "Quantas peças deseja mover (1 ou 3)?4\n",
            "Objetos restantes na pilha: 5\n",
            "É a vez do 2\n",
            "Quantas peças deseja mover (1 ou 3)?3\n",
            "Objetos restantes na pilha: 2\n",
            "É a vez do 1\n",
            "Quantas peças deseja mover (1 ou 3)?2\n",
            "1 removeu a ultima pilha, 1 perdeu!!\n"
          ]
        }
      ],
      "source": [
        "def jogar_nim():\n",
        "  pilha = 21\n",
        "  jogador_atual = 1\n",
        "\n",
        "  print(\"Bem vindo ao jogo Nim!\")\n",
        "  print(\"Existem 21 objetos na pilha,\")\n",
        "  print(\"onde cada jogador pode tirar de 1 a 3 objetos.\")\n",
        "  print(\"O ultimo a tira o objeto da pilha perde!\\n\")\n",
        "\n",
        "  while pilha > 0:\n",
        "    print(f\"Objetos restantes na pilha: {pilha}\")\n",
        "    print(f\"É a vez do {jogador_atual}\")\n",
        "\n",
        "    while True:\n",
        "      try:\n",
        "        movimento = int(input(\"Quantas peças deseja mover (1 ou 3)?\"))\n",
        "        movimento = min(max(movimento, 1), max(3, pilha))\n",
        "        break\n",
        "      except ValueError:\n",
        "        print(\"Por favor, insira um número valido\")\n",
        "\n",
        "    pilha -= movimento\n",
        "\n",
        "    if pilha == 0:\n",
        "      print(f\"{jogador_atual} removeu a ultima pilha, {jogador_atual} perdeu!!\")\n",
        "\n",
        "\n",
        "    jogador_atual = 2 if jogador_atual == 1 else 1\n",
        "]\n",
        "if __name__ == \"__main__\":\n",
        "  jogar_nim()\n"
      ]
    }
  ]
}